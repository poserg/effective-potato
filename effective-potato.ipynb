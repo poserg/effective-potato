{
 "cells": [
  {
   "cell_type": "code",
   "execution_count": null,
   "metadata": {},
   "outputs": [],
   "source": [
    "import sqlite3\n",
    "import json as j\n",
    "import pandas as pd\n",
    "import numpy as np\n",
    "from potato import *"
   ]
  },
  {
   "cell_type": "code",
   "execution_count": null,
   "metadata": {},
   "outputs": [],
   "source": [
    "dbpath=\"/home/sergei/.qif-transaction-generator/db.sqlite\"\n",
    "conn = sqlite3.connect(dbpath)\n",
    "c = conn.cursor()"
   ]
  },
  {
   "cell_type": "code",
   "execution_count": null,
   "metadata": {},
   "outputs": [],
   "source": [
    "c.execute(\"\"\"\n",
    "SELECT\n",
    "\tr.raw,\n",
    "\tr.id,\n",
    "\tr.total,\n",
    "\ti.id,\n",
    "\ti.name,\n",
    "\ti.price,\n",
    "\ti.quantity,\n",
    "\ti.sum,\n",
    "\ta.guid,\n",
    "\ta.name,\n",
    "\ta.parent_guid,\n",
    "\ta.full_name\n",
    "FROM\n",
    "\treceipts r \n",
    "\tjoin items i \n",
    "\ton r.id = i.receipt_id\n",
    "\tjoin accounts a \n",
    "\ton i.account_guid = a.guid \n",
    "WHERE\n",
    "\tpurchase_date > '2022-01-01'\n",
    "\tand raw like '%\\\"user\\\":\\\"ООО \\\\\\\"Лента\\\\\\\"%'\"\"\")\n",
    "data = c.fetchall()"
   ]
  },
  {
   "cell_type": "code",
   "execution_count": null,
   "metadata": {},
   "outputs": [],
   "source": [
    "df = pd.DataFrame(data, columns = ['raw',\n",
    "'receipt_id',\n",
    "'total',\n",
    "'item_id',\n",
    "'item_name',\n",
    "'price',\n",
    "'quantity',\n",
    "'sum',\n",
    "'guid',\n",
    "'account_name',\n",
    "'parent_guid',\n",
    "'full_name'\n",
    "])\n",
    "df['date'] = pd.to_datetime(df['raw'].apply(lambda x: j.loads(x)['localDateTime']))\n",
    "df['month'] = df['date'].dt.to_period('M')\n",
    "df['total'] = df['total']/100\n",
    "df['sum'] = df['sum']/100\n",
    "df['price'] = df['price']/100"
   ]
  },
  {
   "cell_type": "code",
   "execution_count": null,
   "metadata": {},
   "outputs": [],
   "source": [
    "lenta_accounts = pd.DataFrame({'guid': ['88c27f35985a456e93c892f9e103aaa5', \n",
    "'bc800979983f25b1618b0838d7ade3e6', \n",
    "'5410b7a9074d04358bdaa07fd348bc68', \n",
    "'2935651d4e0df737c27a03dda98d3820', \n",
    "'24b40db51a6e3384cc0cf9c67977d5c2', \n",
    "'16bd1484e2140947c4de0eb3dfd0275c', \n",
    "'c086e0849cc098cb0ac771b19d36b912', \n",
    "'468ea6c80dff4691aa63761979dde84c', \n",
    "'087d9df31312eabbe555a87e38c07fd8', \n",
    "'f4c3607271d669f32b0b6ce9e37ac47d', \n",
    "'caca21a694c7cebd6aee930c27995989', \n",
    "'b9f44576ef880ccf7dd7533f0da11f50', \n",
    "'e21919cab28b84e2142e991129b1175f', \n",
    "'d6f8726e0603c165727e78c3e7336a6d', \n",
    "'10ee1db863fd803544e53799f5fb2912', \n",
    "'c75da7b28bf86c14c12af1cfc8a1eaa7', \n",
    "'33a394f97d03cee5c6dd7b8c9a7ecfa0', \n",
    "'4276c02639128bbdc14fc1c3acf175db', \n",
    "'d21ca453c2b73eaeb429cf14b09994bf', \n",
    "'7988312dfb881d3f515e135dcdc571fb', \n",
    "'21752f3b4519bee5074e5c6f4273c7ee', \n",
    "'90dba228f780742a47f633412d224231', \n",
    "'cdc7300c3dcf5592b571fad04933e1f0', \n",
    "'85923be17069c81b23f2a9641426f1eb', \n",
    "'42474fc596d1c29dc4a651486d44a6de', \n",
    "'859fcaff217309b31cda021c50ee691a', \n",
    "'0af97ed200a6eb350498e8a031b471ce', \n",
    "'2fc7be4f05ca06a69498f1768224678d', \n",
    "'81afc999e01cf559d89820a454c971b2', \n",
    "'d90a00af9493a063bdde2b9eb2c251f3', \n",
    "'e7fb50b10dbf9ee113597984f535f96f', \n",
    "'f9599035cac0aed46c1ecadeb3c520d1', \n",
    "'f7e0fec4497d624f3d02aa44afeb92d1', \n",
    "'9c01827b7e5a91e5cfadadf98cc41424', \n",
    "'7114ef07f047ba7e9faa48d31a221eec', \n",
    "'f97747b23b5c247b8c00fdaaffbf7021', \n",
    "'929ef56cbf83997a5aa6b96056c12a9a', \n",
    "'025519b95971c1cc6f1c11324e7f900e', \n",
    "'15a9220213ef6ac9cc7852bf5777872a'],\n",
    "'lenta_category': ['Молочные продукты',\n",
    "'Красота и гигиена',\n",
    "'Вода',\n",
    "'Сладости',\n",
    "'Красота и гигиена',\n",
    "'Красота и гигиена',\n",
    "'Красота и гигиена',\n",
    "'Детские товары',\n",
    "'Молочные продукты',\n",
    "'Молочные продукты',\n",
    "'Консервы',\n",
    "'Консервы',\n",
    "'Крупы',\n",
    "'Макароны',\n",
    "'Молочные продукты',\n",
    "'Молочные продукты',\n",
    "'Сладости',\n",
    "'Бытовая химия',\n",
    "'Красота и гигиена',\n",
    "'Овощи',\n",
    "'Орехи',\n",
    "'Орехи',\n",
    "'Сладости',\n",
    "'Сладости',\n",
    "'Крупы',\n",
    "'Рыба и морепродукты',\n",
    "'Сладости',\n",
    "'Молочные продукты',\n",
    "'Бытовая химия',\n",
    "'Сухофрукты',\n",
    "'Сыры',\n",
    "'Молочные продукты',\n",
    "'Красота и гигиена',\n",
    "'Мясо',\n",
    "'Фрукты',\n",
    "'Чай',\n",
    "'Красота и гигиена',\n",
    "'Сладости',\n",
    "'Яйцо'\n",
    "]})"
   ]
  },
  {
   "cell_type": "code",
   "execution_count": null,
   "metadata": {},
   "outputs": [],
   "source": [
    "df = df.join(lenta_accounts.set_index('guid'), on='guid').sort_values(by='date')\n",
    "#df['lenta_category']=df['lenta_category'].fillna('')\n",
    "df.dropna(subset=['lenta_category'], inplace=True)"
   ]
  },
  {
   "cell_type": "code",
   "execution_count": null,
   "metadata": {},
   "outputs": [],
   "source": [
    "cum_sum_by_receipts_df=df[['receipt_id', 'total', 'month', 'date']].drop_duplicates(['total', 'date'])\n",
    "cum_sum_by_receipts_df['cum_total']=cum_sum_by_receipts_df.groupby(['month'])['total'].cumsum()\n",
    "cum_sum_by_receipts_df['cum_total']=cum_sum_by_receipts_df['cum_total']-cum_sum_by_receipts_df['total']"
   ]
  },
  {
   "cell_type": "code",
   "execution_count": null,
   "metadata": {},
   "outputs": [],
   "source": [
    "def print_df(df):\n",
    "    with pd.option_context('display.max_rows', None,\n",
    "                           'display.max_columns', None,\n",
    "                           'display.precision', 3,\n",
    "                           ):\n",
    "        display(df)"
   ]
  },
  {
   "cell_type": "code",
   "execution_count": null,
   "metadata": {},
   "outputs": [],
   "source": [
    "# Статистика трат:\n",
    "display(cum_sum_by_receipts_df)\n",
    "cum_sum_by_receipts_df.groupby(['month']).sum()"
   ]
  },
  {
   "cell_type": "code",
   "execution_count": null,
   "metadata": {},
   "outputs": [],
   "source": [
    "df=df.join(cum_sum_by_receipts_df[['receipt_id', 'cum_total']].set_index('receipt_id'), on='receipt_id')\n",
    "df['cum_total']=df['cum_total'].fillna(0)\n",
    "df['sum']=df['sum'].fillna(0)"
   ]
  },
  {
   "cell_type": "code",
   "execution_count": null,
   "metadata": {},
   "outputs": [],
   "source": [
    "categories = [\n",
    "\tCategory('Молочные продукты', 1500),\n",
    "\tCategory('Фрукты', 3000),\n",
    "\tCategory('Овощи', 6000),\n",
    "\tCategory('Сыры', 10000),\n",
    "\tCategory('Рыба и морепродукты', 15000),\n",
    "]\n",
    "def calculate_bonus(row):\n",
    "    active_categories=get_active_categories(categories, row['cum_total'])\n",
    "    if row['lenta_category'] in active_categories:\n",
    "        return round(0.05*row['sum'])\n",
    "    else:\n",
    "        return 0\n",
    "df['bonus']=df.apply(lambda x: calculate_bonus(x) , axis=1)"
   ]
  },
  {
   "cell_type": "code",
   "execution_count": null,
   "metadata": {},
   "outputs": [],
   "source": [
    "# display(df)"
   ]
  },
  {
   "cell_type": "code",
   "execution_count": null,
   "metadata": {},
   "outputs": [],
   "source": [
    "#df.groupby(['month', 'lenta_category'])[['sum']].sum().reset_index().sort_values(by=['month', 'sum'])\n",
    "result=df.groupby(['month', 'lenta_category'])[['sum']].sum().sort_values(['month', 'sum'], ascending=(True, False)).groupby('month').head(5)\n",
    "result"
   ]
  },
  {
   "cell_type": "code",
   "execution_count": null,
   "metadata": {},
   "outputs": [],
   "source": [
    "result.reset_index().plot.bar(rot=0, x='month', y=[])"
   ]
  },
  {
   "cell_type": "code",
   "execution_count": null,
   "metadata": {},
   "outputs": [],
   "source": [
    "# import seaborn as sns\n",
    "# sns.set_style(\"dark\")\n",
    "plot_data=pd.pivot_table(result, index=['month'], columns=['lenta_category'], fill_value=0)\n",
    "display(plot_data)\n",
    "plot_data.plot.bar(\n",
    "    stacked=True,\n",
    "    figsize=(20,10)\n",
    ").legend(\n",
    "    loc=\"upper left\"\n",
    ")"
   ]
  }
 ],
 "metadata": {
  "kernelspec": {
   "display_name": "Python 3",
   "language": "python",
   "name": "python3"
  },
  "language_info": {
   "codemirror_mode": {
    "name": "ipython",
    "version": 3
   },
   "file_extension": ".py",
   "mimetype": "text/x-python",
   "name": "python",
   "nbconvert_exporter": "python",
   "pygments_lexer": "ipython3",
   "version": "3.8.5"
  }
 },
 "nbformat": 4,
 "nbformat_minor": 4
}
