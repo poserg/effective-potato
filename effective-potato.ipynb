{
 "cells": [
  {
   "cell_type": "code",
   "execution_count": null,
   "metadata": {},
   "outputs": [],
   "source": [
    "import sqlite3"
   ]
  },
  {
   "cell_type": "code",
   "execution_count": null,
   "metadata": {},
   "outputs": [],
   "source": [
    "dbpath=\"/home/sergei/.qif-transaction-generator/db.sqlite\"\n",
    "conn = sqlite3.connect(dbpath)\n",
    "c = conn.cursor()"
   ]
  },
  {
   "cell_type": "code",
   "execution_count": null,
   "metadata": {},
   "outputs": [],
   "source": [
    "c.execute(\"\"\"\n",
    "SELECT\n",
    "\tr.raw, i.*, a.*\n",
    "FROM\n",
    "\treceipts r \n",
    "\tjoin items i \n",
    "\ton r.id = i.receipt_id\n",
    "\tjoin accounts a \n",
    "\ton i.account_guid = a.guid \n",
    "WHERE\n",
    "\tpurchase_date > '2022-01-01'\n",
    "\tand raw like '%\\\"user\\\":\\\"ООО \\\\\\\"Лента\\\\\\\"%'\"\"\")\n",
    "data = c.fetchall()"
   ]
  },
  {
   "cell_type": "code",
   "execution_count": null,
   "metadata": {},
   "outputs": [],
   "source": [
    "import pandas as pd"
   ]
  },
  {
   "cell_type": "code",
   "execution_count": null,
   "metadata": {},
   "outputs": [],
   "source": []
  }
 ],
 "metadata": {
  "kernelspec": {
   "display_name": "Python 3",
   "language": "python",
   "name": "python3"
  },
  "language_info": {
   "codemirror_mode": {
    "name": "ipython",
    "version": 3
   },
   "file_extension": ".py",
   "mimetype": "text/x-python",
   "name": "python",
   "nbconvert_exporter": "python",
   "pygments_lexer": "ipython3",
   "version": "3.8.5"
  }
 },
 "nbformat": 4,
 "nbformat_minor": 4
}
